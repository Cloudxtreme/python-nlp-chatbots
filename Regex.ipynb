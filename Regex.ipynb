{
 "cells": [
  {
   "cell_type": "markdown",
   "metadata": {},
   "source": [
    "### Regular expressions\n",
    "\n",
    "Regular expressions are strngs with special syntax tht can be used to match patterns in other strings. `re` module in python is used for regex. Some important methods `re` module are :\n",
    "\n",
    "* `split` - split a string on a regex\n",
    "* `findall` - find all patterns in a string\n",
    "* `search` - search for a pattern\n",
    "* `match` - match an entire string or substring based on pattern\n",
    "\n",
    "In all these methods, the general syntax is pattern first and string next. These methods return an iterator or a string or a match object.\n"
   ]
  },
  {
   "cell_type": "code",
   "execution_count": 1,
   "metadata": {},
   "outputs": [
    {
     "name": "stdout",
     "output_type": "stream",
     "text": [
      "['My job is done', ' What should I do next', ' God knows', ' I am so broke now', ' I have exatly 50 Rs']\n",
      "['My', 'What', 'God', 'Rs']\n",
      "['My', 'job', 'is', 'done.', 'What', 'should', 'I', 'do', 'next?', 'God', 'knows.', 'I', 'am', 'so', 'broke', 'now.', 'I', 'have', 'exatly', '50', 'Rs']\n",
      "['50']\n"
     ]
    }
   ],
   "source": [
    "import re \n",
    "\n",
    "my_string = \"My job is done. What should I do next? God knows. I am so broke now. I have exatly 50 Rs\"\n",
    "#find all words in a string\n",
    "re.findall(r\"\\w+\",my_string) \n",
    "#Adding an r, indicating raw string, before the pattern is necessary so that backslashes are interpreted as intended\n",
    "\n",
    "# Pattern to match sentence endings\n",
    "sentence_endings = r\"[.|?|!]\"\n",
    "print(re.split(sentence_endings,my_string))\n",
    "\n",
    "# pattern to match capitalized words\n",
    "capitalized_words = r\"[A-Z]\\w+\"\n",
    "print(re.findall(capitalized_words,my_string))\n",
    "\n",
    "# pattern to match spaces and split the string\n",
    "spaces = r\"\\s+\"\n",
    "print(re.split(spaces,my_string))\n",
    "\n",
    "# pattern to match the digits and split the string\n",
    "digits = r\"\\d+\"\n",
    "print(re.findall(digits,my_string))"
   ]
  },
  {
   "cell_type": "markdown",
   "metadata": {},
   "source": [
    "### Tokenization\n",
    "\n",
    "It is the process of converting a string or document into tokens. It is one of the steps in preparing text for NLP. In python, `nltk`(natural language toolkit) module is most commonly used for tokenization. Some important tokenizers are:\n",
    "\n",
    "* `word_tokenize`- tokenize a string into words\n",
    "* `sent_tokenize` - tokenize a document into sentences\n",
    "* `regexp_tokenize` - tokenize a string or document based on a regex\n",
    "* `TweetTokenizer` - special class just for tweet tokenization\n",
    "\n",
    "Always use `re.search()` if your pattern occurs somewhere in between the string because `re.match()` will try to find the pattern from the beginning. For example, `re.match(\"cd\",\"abcde\")` and `re.search(\"cd\",\"abcde\")` fetch different results. \n",
    "\n",
    "`|`- OR, `()`- groups,`[]`-ranges are a few advanced tokenization technizques which we'll cover a bit more later"
   ]
  },
  {
   "cell_type": "code",
   "execution_count": 5,
   "metadata": {},
   "outputs": [
    {
     "name": "stdout",
     "output_type": "stream",
     "text": [
      "['Here', 'is', 'another', 'sentence', '.', 'This', 'has', '3', 'words']\n",
      "['Here is another sentence.', 'This has 3 words']\n",
      "Here\n"
     ]
    }
   ],
   "source": [
    "from nltk.tokenize import word_tokenize, sent_tokenize\n",
    "\n",
    "my_sentence = \"Here is another sentence. This has 3 words\"\n",
    "\n",
    "print(word_tokenize(my_sentence)) #gets list of words\n",
    "print(sent_tokenize(my_sentence)) #gets sentences\n",
    "\n",
    "match=re.search(r\"[A-Z]\\w+\",my_sentence) #search for first capitalized\n",
    "print(my_sentence[match.start():match.end()])#print the word\n",
    "\n"
   ]
  },
  {
   "cell_type": "code",
   "execution_count": null,
   "metadata": {
    "collapsed": true
   },
   "outputs": [],
   "source": []
  }
 ],
 "metadata": {
  "kernelspec": {
   "display_name": "Python 3",
   "language": "python",
   "name": "python3"
  },
  "language_info": {
   "codemirror_mode": {
    "name": "ipython",
    "version": 3
   },
   "file_extension": ".py",
   "mimetype": "text/x-python",
   "name": "python",
   "nbconvert_exporter": "python",
   "pygments_lexer": "ipython3",
   "version": "3.6.3"
  }
 },
 "nbformat": 4,
 "nbformat_minor": 2
}
